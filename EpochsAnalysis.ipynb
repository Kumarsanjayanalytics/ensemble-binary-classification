{
 "metadata": {
  "language_info": {
   "codemirror_mode": {
    "name": "ipython",
    "version": 3
   },
   "file_extension": ".py",
   "mimetype": "text/x-python",
   "name": "python",
   "nbconvert_exporter": "python",
   "pygments_lexer": "ipython3",
   "version": "3.7.6-final"
  },
  "orig_nbformat": 2,
  "kernelspec": {
   "name": "python_defaultSpec_1597520588172",
   "display_name": "Python 3.7.6 64-bit ('base': conda)"
  }
 },
 "nbformat": 4,
 "nbformat_minor": 2,
 "cells": [
  {
   "cell_type": "code",
   "execution_count": 1,
   "metadata": {
    "tags": []
   },
   "outputs": [],
   "source": [
    "# Analysis of Epoch runs\n",
    "\n",
    "import os\n",
    "import pandas as pd\n",
    "\n",
    "df_dic = {}\n",
    "\n",
    "root = \"Sandbox\"\n",
    "i = 0\n",
    "for path, subdirs, files in os.walk(root):\n",
    "    for f in files:\n",
    "        if f.startswith('metrics'):\n",
    "            DIR = os.path.join(path, f)\n",
    "            temp_df = pd.read_csv(DIR)\n",
    "            temp_df['PATH'] = f\n",
    "            df_dic[i] = temp_df\n",
    "            i = i+1\n",
    "\n",
    "df_List = [df_dic[i] for i in range(len(df_dic))]\n",
    "df = pd.concat(df_List)\n",
    "df_sorted = df.sort_values(by='train_CV_f1', ascending=False)"
   ]
  },
  {
   "cell_type": "code",
   "execution_count": 2,
   "metadata": {},
   "outputs": [
    {
     "output_type": "display_data",
     "data": {
      "text/plain": "    Unnamed: 0         Algorithm  train_CV_accuracy  \\\n0           18  VotingClassifier           0.902000   \n0           18  VotingClassifier           0.903333   \n0           18  VotingClassifier           0.901667   \n0           18  VotingClassifier           0.901333   \n0           18  VotingClassifier           0.901667   \n..         ...               ...                ...   \n18           4     XGBClassifier           0.689667   \n17           8     XGBClassifier           0.689667   \n18           0     XGBClassifier           0.689667   \n18           5     XGBClassifier           0.689667   \n18           0     XGBClassifier           0.689667   \n\n    train_CV_accuracy_balanced  train_CV_f1  train_CV_f1_micro  \\\n0                     0.861599     0.825835           0.902000   \n0                     0.857261     0.823942           0.903333   \n0                     0.856918     0.822546           0.901667   \n0                     0.856380     0.822151           0.901333   \n0                     0.854868     0.821008           0.901667   \n..                         ...          ...                ...   \n18                    0.500000     0.000000           0.689667   \n17                    0.500000     0.000000           0.689667   \n18                    0.500000     0.000000           0.689667   \n18                    0.500000     0.000000           0.689667   \n18                    0.500000     0.000000           0.689667   \n\n    train_CV_f1_macro  train_CV_f1_weighted  train_CV_roc_auc  \\\n0            0.878785              0.898871          0.970385   \n0            0.878629              0.899370          0.970736   \n0            0.877243              0.897993          0.968003   \n0            0.876924              0.897704          0.966956   \n0            0.876590              0.897670          0.968955   \n..                ...                   ...               ...   \n18           0.408167              0.562999          0.500000   \n17           0.408167              0.562999          0.500000   \n18           0.408167              0.562999          0.500000   \n18           0.408167              0.562999          0.500000   \n18           0.408167              0.562999          0.500000   \n\n                                              PATH  \n0             metrics-20200814-230619-SMOTEENN.csv  \n0   metrics-20200815-025045-RandomUnderSampler.csv  \n0    metrics-OneSidedSelection-20200815-133532.csv  \n0   metrics-20200815-041307-RandomUnderSampler.csv  \n0    metrics-OneSidedSelection-20200815-132950.csv  \n..                                             ...  \n18  metrics-20200815-122811-RandomUnderSampler.csv  \n17  metrics-20200815-124054-RandomUnderSampler.csv  \n18  metrics-20200815-124054-RandomUnderSampler.csv  \n18            metrics-20200814-223042-SMOTEENN.csv  \n18          metrics-TomekLinks-20200815-141339.csv  \n\n[2926 rows x 10 columns]",
      "text/html": "<div>\n<style scoped>\n    .dataframe tbody tr th:only-of-type {\n        vertical-align: middle;\n    }\n\n    .dataframe tbody tr th {\n        vertical-align: top;\n    }\n\n    .dataframe thead th {\n        text-align: right;\n    }\n</style>\n<table border=\"1\" class=\"dataframe\">\n  <thead>\n    <tr style=\"text-align: right;\">\n      <th></th>\n      <th>Unnamed: 0</th>\n      <th>Algorithm</th>\n      <th>train_CV_accuracy</th>\n      <th>train_CV_accuracy_balanced</th>\n      <th>train_CV_f1</th>\n      <th>train_CV_f1_micro</th>\n      <th>train_CV_f1_macro</th>\n      <th>train_CV_f1_weighted</th>\n      <th>train_CV_roc_auc</th>\n      <th>PATH</th>\n    </tr>\n  </thead>\n  <tbody>\n    <tr>\n      <th>0</th>\n      <td>18</td>\n      <td>VotingClassifier</td>\n      <td>0.902000</td>\n      <td>0.861599</td>\n      <td>0.825835</td>\n      <td>0.902000</td>\n      <td>0.878785</td>\n      <td>0.898871</td>\n      <td>0.970385</td>\n      <td>metrics-20200814-230619-SMOTEENN.csv</td>\n    </tr>\n    <tr>\n      <th>0</th>\n      <td>18</td>\n      <td>VotingClassifier</td>\n      <td>0.903333</td>\n      <td>0.857261</td>\n      <td>0.823942</td>\n      <td>0.903333</td>\n      <td>0.878629</td>\n      <td>0.899370</td>\n      <td>0.970736</td>\n      <td>metrics-20200815-025045-RandomUnderSampler.csv</td>\n    </tr>\n    <tr>\n      <th>0</th>\n      <td>18</td>\n      <td>VotingClassifier</td>\n      <td>0.901667</td>\n      <td>0.856918</td>\n      <td>0.822546</td>\n      <td>0.901667</td>\n      <td>0.877243</td>\n      <td>0.897993</td>\n      <td>0.968003</td>\n      <td>metrics-OneSidedSelection-20200815-133532.csv</td>\n    </tr>\n    <tr>\n      <th>0</th>\n      <td>18</td>\n      <td>VotingClassifier</td>\n      <td>0.901333</td>\n      <td>0.856380</td>\n      <td>0.822151</td>\n      <td>0.901333</td>\n      <td>0.876924</td>\n      <td>0.897704</td>\n      <td>0.966956</td>\n      <td>metrics-20200815-041307-RandomUnderSampler.csv</td>\n    </tr>\n    <tr>\n      <th>0</th>\n      <td>18</td>\n      <td>VotingClassifier</td>\n      <td>0.901667</td>\n      <td>0.854868</td>\n      <td>0.821008</td>\n      <td>0.901667</td>\n      <td>0.876590</td>\n      <td>0.897670</td>\n      <td>0.968955</td>\n      <td>metrics-OneSidedSelection-20200815-132950.csv</td>\n    </tr>\n    <tr>\n      <th>...</th>\n      <td>...</td>\n      <td>...</td>\n      <td>...</td>\n      <td>...</td>\n      <td>...</td>\n      <td>...</td>\n      <td>...</td>\n      <td>...</td>\n      <td>...</td>\n      <td>...</td>\n    </tr>\n    <tr>\n      <th>18</th>\n      <td>4</td>\n      <td>XGBClassifier</td>\n      <td>0.689667</td>\n      <td>0.500000</td>\n      <td>0.000000</td>\n      <td>0.689667</td>\n      <td>0.408167</td>\n      <td>0.562999</td>\n      <td>0.500000</td>\n      <td>metrics-20200815-122811-RandomUnderSampler.csv</td>\n    </tr>\n    <tr>\n      <th>17</th>\n      <td>8</td>\n      <td>XGBClassifier</td>\n      <td>0.689667</td>\n      <td>0.500000</td>\n      <td>0.000000</td>\n      <td>0.689667</td>\n      <td>0.408167</td>\n      <td>0.562999</td>\n      <td>0.500000</td>\n      <td>metrics-20200815-124054-RandomUnderSampler.csv</td>\n    </tr>\n    <tr>\n      <th>18</th>\n      <td>0</td>\n      <td>XGBClassifier</td>\n      <td>0.689667</td>\n      <td>0.500000</td>\n      <td>0.000000</td>\n      <td>0.689667</td>\n      <td>0.408167</td>\n      <td>0.562999</td>\n      <td>0.500000</td>\n      <td>metrics-20200815-124054-RandomUnderSampler.csv</td>\n    </tr>\n    <tr>\n      <th>18</th>\n      <td>5</td>\n      <td>XGBClassifier</td>\n      <td>0.689667</td>\n      <td>0.500000</td>\n      <td>0.000000</td>\n      <td>0.689667</td>\n      <td>0.408167</td>\n      <td>0.562999</td>\n      <td>0.500000</td>\n      <td>metrics-20200814-223042-SMOTEENN.csv</td>\n    </tr>\n    <tr>\n      <th>18</th>\n      <td>0</td>\n      <td>XGBClassifier</td>\n      <td>0.689667</td>\n      <td>0.500000</td>\n      <td>0.000000</td>\n      <td>0.689667</td>\n      <td>0.408167</td>\n      <td>0.562999</td>\n      <td>0.500000</td>\n      <td>metrics-TomekLinks-20200815-141339.csv</td>\n    </tr>\n  </tbody>\n</table>\n<p>2926 rows × 10 columns</p>\n</div>"
     },
     "metadata": {}
    }
   ],
   "source": [
    "with pd.option_context(\"display.max_rows\", 25):\n",
    "    display(df_sorted)"
   ]
  },
  {
   "cell_type": "code",
   "execution_count": 3,
   "metadata": {},
   "outputs": [
    {
     "output_type": "execute_result",
     "data": {
      "text/plain": "   Unnamed: 0         Algorithm  train_CV_accuracy  \\\n0          18  VotingClassifier           0.902000   \n0          18  VotingClassifier           0.903333   \n0          18  VotingClassifier           0.901667   \n0          18  VotingClassifier           0.901333   \n0          18  VotingClassifier           0.901667   \n0          18  VotingClassifier           0.901333   \n0          18  VotingClassifier           0.901333   \n0          18  VotingClassifier           0.901667   \n0          18  VotingClassifier           0.900333   \n0          18  VotingClassifier           0.900000   \n0          18  VotingClassifier           0.900000   \n0          18  VotingClassifier           0.900000   \n0          18  VotingClassifier           0.899333   \n0          18  VotingClassifier           0.898667   \n0          18  VotingClassifier           0.899000   \n\n   train_CV_accuracy_balanced  train_CV_f1  train_CV_f1_micro  \\\n0                    0.861599     0.825835           0.902000   \n0                    0.857261     0.823942           0.903333   \n0                    0.856918     0.822546           0.901667   \n0                    0.856380     0.822151           0.901333   \n0                    0.854868     0.821008           0.901667   \n0                    0.855197     0.820493           0.901333   \n0                    0.854316     0.819996           0.901333   \n0                    0.853384     0.819939           0.901667   \n0                    0.855063     0.819071           0.900333   \n0                    0.854848     0.818997           0.900000   \n0                    0.854517     0.818109           0.900000   \n0                    0.851595     0.817314           0.900000   \n0                    0.850509     0.815876           0.899333   \n0                    0.851796     0.815494           0.898667   \n0                    0.850567     0.814793           0.899000   \n\n   train_CV_f1_macro  train_CV_f1_weighted  train_CV_roc_auc  \\\n0           0.878785              0.898871          0.970385   \n0           0.878629              0.899370          0.970736   \n0           0.877243              0.897993          0.968003   \n0           0.876924              0.897704          0.966956   \n0           0.876590              0.897670          0.968955   \n0           0.876209              0.897347          0.968895   \n0           0.876000              0.897246          0.969817   \n0           0.876135              0.897452          0.970391   \n0           0.875117              0.896379          0.970167   \n0           0.874929              0.896138          0.965889   \n0           0.874540              0.895953          0.966449   \n0           0.874220              0.895802          0.968900   \n0           0.873287              0.895065          0.966911   \n0           0.872803              0.894543          0.967998   \n0           0.872647              0.894590          0.970267   \n\n                                             PATH  \n0            metrics-20200814-230619-SMOTEENN.csv  \n0  metrics-20200815-025045-RandomUnderSampler.csv  \n0   metrics-OneSidedSelection-20200815-133532.csv  \n0  metrics-20200815-041307-RandomUnderSampler.csv  \n0   metrics-OneSidedSelection-20200815-132950.csv  \n0  metrics-20200815-111612-RandomUnderSampler.csv  \n0            metrics-SMOTEENN-20200815-195626.csv  \n0  metrics-20200815-100848-RandomUnderSampler.csv  \n0   metrics-OneSidedSelection-20200815-131849.csv  \n0  metrics-20200815-034402-RandomUnderSampler.csv  \n0            metrics-20200814-235015-SMOTEENN.csv  \n0   metrics-OneSidedSelection-20200815-131320.csv  \n0            metrics-20200814-231806-SMOTEENN.csv  \n0  metrics-20200815-040041-RandomUnderSampler.csv  \n0            metrics-20200814-232206-SMOTEENN.csv  ",
      "text/html": "<div>\n<style scoped>\n    .dataframe tbody tr th:only-of-type {\n        vertical-align: middle;\n    }\n\n    .dataframe tbody tr th {\n        vertical-align: top;\n    }\n\n    .dataframe thead th {\n        text-align: right;\n    }\n</style>\n<table border=\"1\" class=\"dataframe\">\n  <thead>\n    <tr style=\"text-align: right;\">\n      <th></th>\n      <th>Unnamed: 0</th>\n      <th>Algorithm</th>\n      <th>train_CV_accuracy</th>\n      <th>train_CV_accuracy_balanced</th>\n      <th>train_CV_f1</th>\n      <th>train_CV_f1_micro</th>\n      <th>train_CV_f1_macro</th>\n      <th>train_CV_f1_weighted</th>\n      <th>train_CV_roc_auc</th>\n      <th>PATH</th>\n    </tr>\n  </thead>\n  <tbody>\n    <tr>\n      <th>0</th>\n      <td>18</td>\n      <td>VotingClassifier</td>\n      <td>0.902000</td>\n      <td>0.861599</td>\n      <td>0.825835</td>\n      <td>0.902000</td>\n      <td>0.878785</td>\n      <td>0.898871</td>\n      <td>0.970385</td>\n      <td>metrics-20200814-230619-SMOTEENN.csv</td>\n    </tr>\n    <tr>\n      <th>0</th>\n      <td>18</td>\n      <td>VotingClassifier</td>\n      <td>0.903333</td>\n      <td>0.857261</td>\n      <td>0.823942</td>\n      <td>0.903333</td>\n      <td>0.878629</td>\n      <td>0.899370</td>\n      <td>0.970736</td>\n      <td>metrics-20200815-025045-RandomUnderSampler.csv</td>\n    </tr>\n    <tr>\n      <th>0</th>\n      <td>18</td>\n      <td>VotingClassifier</td>\n      <td>0.901667</td>\n      <td>0.856918</td>\n      <td>0.822546</td>\n      <td>0.901667</td>\n      <td>0.877243</td>\n      <td>0.897993</td>\n      <td>0.968003</td>\n      <td>metrics-OneSidedSelection-20200815-133532.csv</td>\n    </tr>\n    <tr>\n      <th>0</th>\n      <td>18</td>\n      <td>VotingClassifier</td>\n      <td>0.901333</td>\n      <td>0.856380</td>\n      <td>0.822151</td>\n      <td>0.901333</td>\n      <td>0.876924</td>\n      <td>0.897704</td>\n      <td>0.966956</td>\n      <td>metrics-20200815-041307-RandomUnderSampler.csv</td>\n    </tr>\n    <tr>\n      <th>0</th>\n      <td>18</td>\n      <td>VotingClassifier</td>\n      <td>0.901667</td>\n      <td>0.854868</td>\n      <td>0.821008</td>\n      <td>0.901667</td>\n      <td>0.876590</td>\n      <td>0.897670</td>\n      <td>0.968955</td>\n      <td>metrics-OneSidedSelection-20200815-132950.csv</td>\n    </tr>\n    <tr>\n      <th>0</th>\n      <td>18</td>\n      <td>VotingClassifier</td>\n      <td>0.901333</td>\n      <td>0.855197</td>\n      <td>0.820493</td>\n      <td>0.901333</td>\n      <td>0.876209</td>\n      <td>0.897347</td>\n      <td>0.968895</td>\n      <td>metrics-20200815-111612-RandomUnderSampler.csv</td>\n    </tr>\n    <tr>\n      <th>0</th>\n      <td>18</td>\n      <td>VotingClassifier</td>\n      <td>0.901333</td>\n      <td>0.854316</td>\n      <td>0.819996</td>\n      <td>0.901333</td>\n      <td>0.876000</td>\n      <td>0.897246</td>\n      <td>0.969817</td>\n      <td>metrics-SMOTEENN-20200815-195626.csv</td>\n    </tr>\n    <tr>\n      <th>0</th>\n      <td>18</td>\n      <td>VotingClassifier</td>\n      <td>0.901667</td>\n      <td>0.853384</td>\n      <td>0.819939</td>\n      <td>0.901667</td>\n      <td>0.876135</td>\n      <td>0.897452</td>\n      <td>0.970391</td>\n      <td>metrics-20200815-100848-RandomUnderSampler.csv</td>\n    </tr>\n    <tr>\n      <th>0</th>\n      <td>18</td>\n      <td>VotingClassifier</td>\n      <td>0.900333</td>\n      <td>0.855063</td>\n      <td>0.819071</td>\n      <td>0.900333</td>\n      <td>0.875117</td>\n      <td>0.896379</td>\n      <td>0.970167</td>\n      <td>metrics-OneSidedSelection-20200815-131849.csv</td>\n    </tr>\n    <tr>\n      <th>0</th>\n      <td>18</td>\n      <td>VotingClassifier</td>\n      <td>0.900000</td>\n      <td>0.854848</td>\n      <td>0.818997</td>\n      <td>0.900000</td>\n      <td>0.874929</td>\n      <td>0.896138</td>\n      <td>0.965889</td>\n      <td>metrics-20200815-034402-RandomUnderSampler.csv</td>\n    </tr>\n    <tr>\n      <th>0</th>\n      <td>18</td>\n      <td>VotingClassifier</td>\n      <td>0.900000</td>\n      <td>0.854517</td>\n      <td>0.818109</td>\n      <td>0.900000</td>\n      <td>0.874540</td>\n      <td>0.895953</td>\n      <td>0.966449</td>\n      <td>metrics-20200814-235015-SMOTEENN.csv</td>\n    </tr>\n    <tr>\n      <th>0</th>\n      <td>18</td>\n      <td>VotingClassifier</td>\n      <td>0.900000</td>\n      <td>0.851595</td>\n      <td>0.817314</td>\n      <td>0.900000</td>\n      <td>0.874220</td>\n      <td>0.895802</td>\n      <td>0.968900</td>\n      <td>metrics-OneSidedSelection-20200815-131320.csv</td>\n    </tr>\n    <tr>\n      <th>0</th>\n      <td>18</td>\n      <td>VotingClassifier</td>\n      <td>0.899333</td>\n      <td>0.850509</td>\n      <td>0.815876</td>\n      <td>0.899333</td>\n      <td>0.873287</td>\n      <td>0.895065</td>\n      <td>0.966911</td>\n      <td>metrics-20200814-231806-SMOTEENN.csv</td>\n    </tr>\n    <tr>\n      <th>0</th>\n      <td>18</td>\n      <td>VotingClassifier</td>\n      <td>0.898667</td>\n      <td>0.851796</td>\n      <td>0.815494</td>\n      <td>0.898667</td>\n      <td>0.872803</td>\n      <td>0.894543</td>\n      <td>0.967998</td>\n      <td>metrics-20200815-040041-RandomUnderSampler.csv</td>\n    </tr>\n    <tr>\n      <th>0</th>\n      <td>18</td>\n      <td>VotingClassifier</td>\n      <td>0.899000</td>\n      <td>0.850567</td>\n      <td>0.814793</td>\n      <td>0.899000</td>\n      <td>0.872647</td>\n      <td>0.894590</td>\n      <td>0.970267</td>\n      <td>metrics-20200814-232206-SMOTEENN.csv</td>\n    </tr>\n  </tbody>\n</table>\n</div>"
     },
     "metadata": {},
     "execution_count": 3
    }
   ],
   "source": [
    "df_sorted.head(15)"
   ]
  },
  {
   "cell_type": "code",
   "execution_count": null,
   "metadata": {},
   "outputs": [],
   "source": []
  }
 ]
}